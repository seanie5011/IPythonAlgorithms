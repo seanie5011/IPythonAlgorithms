{
 "cells": [
  {
   "cell_type": "markdown",
   "id": "8f9d8b09",
   "metadata": {},
   "source": [
    "# AM2061\n",
    "## Lagrange Interpolation"
   ]
  },
  {
   "cell_type": "markdown",
   "id": "721ea2ac",
   "metadata": {},
   "source": [
    "Lagrange Interpolation is a method used to interpolate across a known set of points to approximate a function, or provide a way to predict points inbetween data we are given. It involves calculating an approximation $P(x)$, which is a polynomial.\n",
    "\n",
    "The following is the formula for a known set of y-values $f(x_k)$ and a given $x$ that we want to predict the y-value for:\n",
    "\n",
    "\\begin{equation} P(x) = \\sum\\limits_{k = 0}^{n} L_{n, k}(x) f(x_k) \\end{equation}\n",
    "\n",
    "with:\n",
    "\n",
    "\\begin{equation} L_{n, k}(x) = \\prod\\limits_{i = 0, i \\neq k}^{n} \\frac{x - x_i}{x_k - x_i} \\end{equation}\n",
    "\n",
    "*Note that in the code and in the Lectures, it is referenced we are extending to the \"$n + 1$ point\", this means that when we talk about the say - 2nd order Lagrange Interpolation - what we mean is that $n + 1 = 2 \\Rightarrow n = 1$, however in the code we still call $n = 2$, this explains why the code is **in range(n)**, since this ends at $n - 1 = 1$ - the \"actual\" $n$*"
   ]
  },
  {
   "cell_type": "markdown",
   "id": "3a1763da",
   "metadata": {},
   "source": [
    "There is no pseudocode provided."
   ]
  },
  {
   "cell_type": "markdown",
   "id": "1969a657",
   "metadata": {},
   "source": [
    "Let us now create this in Python."
   ]
  },
  {
   "cell_type": "markdown",
   "id": "a654c0ac",
   "metadata": {},
   "source": [
    "First we must define our set of known and unknown points, I will use what was given in Lab 06.\n",
    "\n",
    "* Known: $(0, 1), (0.5, 1.2), (1, 1.4), (1.5, 1.7), (2, 2.2)$\n",
    "\n",
    "* Unknown: $(1.25, y)$\n",
    "\n",
    "In other words, calculate $P(1.25)$:"
   ]
  },
  {
   "cell_type": "code",
   "execution_count": 1,
   "id": "bc233080",
   "metadata": {},
   "outputs": [],
   "source": [
    "import numpy as np\n",
    "import matplotlib.pyplot as plt\n",
    "\n",
    "data = np.array([[0, 1], [0.5, 1.2], [1, 1.4], [1.5, 1.7], [2, 2.2]])\n",
    "x = data[:, 0] # all first entries: x-values\n",
    "y = data[:, 1] # all second entries: y-values"
   ]
  },
  {
   "cell_type": "markdown",
   "id": "f0608c53",
   "metadata": {},
   "source": [
    "Now let us define the algorithm, we need to pass in the known x-values, known y-values, and the desired (unknown) x-value.\n",
    "\n",
    "Note that there are comments intended to help understanding."
   ]
  },
  {
   "cell_type": "code",
   "execution_count": 2,
   "id": "f0eccc72",
   "metadata": {},
   "outputs": [],
   "source": [
    "def LagrangeInterpolation(x_in, y_in, x):\n",
    "    # x_in is the known x-values (array)\n",
    "    # y_in is the known y-values (array)\n",
    "    # x is the desired x-value which we will find the y-value for (number)\n",
    "    n = len(x_in)\n",
    "    \n",
    "    # find P(x) by a summation loop\n",
    "    summation = 0 # our final answer will be summation\n",
    "    for k in range(n): # not including n, in writing this would be n + 1\n",
    "        # find L_n,k by a product loop\n",
    "        prod = 1 # initialise to 1\n",
    "        for i in range(n):\n",
    "            if i != k:\n",
    "                prod *= (x - x_in[i]) / (x_in[k] - x_in[i]) # formula for L_n,k\n",
    "                \n",
    "        summation += prod * y_in[k] # formula for P(x)\n",
    "        \n",
    "    return summation"
   ]
  },
  {
   "cell_type": "markdown",
   "id": "ff6567bb",
   "metadata": {},
   "source": [
    "We can now test this algorithm for a solution, which will be returned as a number which is our y-value:"
   ]
  },
  {
   "cell_type": "code",
   "execution_count": 3,
   "id": "eaaed5e7",
   "metadata": {},
   "outputs": [
    {
     "data": {
      "text/plain": [
       "1.53125"
      ]
     },
     "execution_count": 3,
     "metadata": {},
     "output_type": "execute_result"
    }
   ],
   "source": [
    "P = LagrangeInterpolation(x, y, 1.25)\n",
    "P"
   ]
  },
  {
   "cell_type": "markdown",
   "id": "87bc537f",
   "metadata": {},
   "source": [
    "We can interpolate over the entire range given (or further if desired) to give a graph of these:"
   ]
  },
  {
   "cell_type": "code",
   "execution_count": 4,
   "id": "08474802",
   "metadata": {},
   "outputs": [
    {
     "data": {
      "image/png": "[encoded data removed]",
      "text/plain": [
       "<Figure size 432x288 with 1 Axes>"
      ]
     },
     "metadata": {
      "needs_background": "light"
     },
     "output_type": "display_data"
    }
   ],
   "source": [
    "# mimicking an Interpolation function\n",
    "Px = np.linspace(0, 2, 100) # 100 linearly spaced numbers (x-values) across the region of interest\n",
    "\n",
    "Py = Px.copy() # y-values that will be calculated\n",
    "for i in range(len(Py)):\n",
    "    Py[i] = LagrangeInterpolation(x, y, Px[i]) # sets the y-value at that x-value to be the interpolated value\n",
    "    \n",
    "# Plot these points and join by a line\n",
    "plt.scatter(x, y, color = 'r', label = \"Known Points\") # known points\n",
    "plt.plot(Px, Py, color = 'b', label = \"Interpolation\") # Interpolation\n",
    "plt.scatter(1.25, P, color = 'g', label = \"Calculated $P(1.25)$\") # calculated point from before\n",
    "plt.ylabel('P(x)')\n",
    "plt.xlabel('x')\n",
    "plt.legend()\n",
    "plt.grid(True)"
   ]
  },
  {
   "cell_type": "markdown",
   "id": "47ca2c26",
   "metadata": {},
   "source": [
    "### Extra: Finding the equation for $P(x)$"
   ]
  },
  {
   "cell_type": "markdown",
   "id": "8c8af7f5",
   "metadata": {},
   "source": [
    "We can use *sympy* to calculate the actual equation of $P(x)$ instead of a specific value like we have been doing. Remember that above we have evaluated the following formula for a given $x$ and for a known set of y-values $f(x)$:\n",
    "\n",
    "\\begin{equation} P(x) = \\sum\\limits_{k = 0}^{n} L_{n, k}(x) f(x_k) \\end{equation}\n",
    "\n",
    "with:\n",
    "\n",
    "\\begin{equation} L_{n, k}(x) = \\prod\\limits_{i = 0, i \\neq k}^{n} \\frac{x - x_i}{x_k - x_i} \\end{equation}\n",
    "\n",
    "Instead, we can evaluate the above expression for a general $x$, assuming we again have a set of known y-values $f(x)$.\n",
    "\n",
    "For example, we want to find the 2nd order Lagrange interpolating polynomial at the points $(2, 0.5), (2.75, \\frac{4}{11}), (4, 0.25)$:\n",
    "\n",
    "\\begin{equation} L_{2, 0}(x) = \\frac{\\left( x - 2.75 \\right) \\left( x - 4 \\right)}{\\left( 2 - 2.75 \\right) \\left( 2 - 4 \\right)} =  \\frac{2}{3} \\left( x - 2.75 \\right) \\left( x - 4 \\right) \\end{equation}\n",
    "\n",
    "\\begin{equation} L_{2, 1}(x) = \\frac{\\left( x - 2 \\right) \\left( x - 4 \\right)}{\\left( 2.75 - 2 \\right) \\left( 2.75 - 4 \\right)} =  \\frac{-16}{15} \\left( x - 2 \\right) \\left( x - 4 \\right) \\end{equation}\n",
    "\n",
    "\\begin{equation} L_{2, 2}(x) = \\frac{\\left( x - 2 \\right) \\left( x - 2.75 \\right)}{\\left( 4 - 2 \\right) \\left( 4 - 2.75 \\right)} =  \\frac{2}{5} \\left( x - 2 \\right) \\left( x - 2.75 \\right) \\end{equation}\n",
    "\n",
    "\\begin{equation} P(x) = \\sum\\limits_{k = 0}^{2} L_{2, k}(x) f(x_k) = L_{2, 0}(x) \\times 0.5 + L_{2, 1}(x) \\times \\frac{4}{11} + L_{2, 2}(x) \\times 0.25 = \\dots = \\frac{1}{22}x^2 - \\frac{35}{88}x + \\frac{49}{44} \\end{equation}\n",
    "\n",
    "Now, we will do the above, but in Python!\n",
    "\n",
    "*Note: the actual function we are looking at is $f(x) = \\frac{1}{x}$, so we will compare our predicted function to this*"
   ]
  },
  {
   "cell_type": "markdown",
   "id": "35555334",
   "metadata": {},
   "source": [
    "First, we must import *sympy* and define our known points:"
   ]
  },
  {
   "cell_type": "code",
   "execution_count": 5,
   "id": "9a391408",
   "metadata": {},
   "outputs": [],
   "source": [
    "import sympy as sym\n",
    "x = sym.symbols('x')\n",
    "\n",
    "data = np.array([[2, 0.5], [2.75, 4.0/11.0], [4, 0.25]])\n",
    "x_vals = data[:, 0] # all first entries: x-values\n",
    "y_vals = data[:, 1] # all second entries: y-values\n",
    "\n",
    "f = 1 / x"
   ]
  },
  {
   "cell_type": "markdown",
   "id": "09e381a8",
   "metadata": {},
   "source": [
    "Now we can define a new function (very similar to the previous), which will symbolically calculate $P(x)$:"
   ]
  },
  {
   "cell_type": "code",
   "execution_count": 6,
   "id": "dd8c14eb",
   "metadata": {},
   "outputs": [],
   "source": [
    "def SymbolicLagrangeInterpolation(x_in, y_in):\n",
    "    # x_in is the known x-values (array)\n",
    "    # y_in is the known y-values (array)\n",
    "    n = len(x_in)\n",
    "    \n",
    "    # find P(x) by a summation loop\n",
    "    summation = 0 # our final answer will be summation\n",
    "    for k in range(n): # not including n, in writing this would be n + 1\n",
    "        # find L_n,k by a product loop\n",
    "        prod = 1 # initialise to 1\n",
    "        for i in range(n):\n",
    "            if i != k:\n",
    "                prod *= (x - x_in[i]) / (x_in[k] - x_in[i]) # formula for L_n,k\n",
    "                \n",
    "        summation += prod * y_in[k] # formula for P(x)\n",
    "        \n",
    "    return summation"
   ]
  },
  {
   "cell_type": "markdown",
   "id": "ad8d6f9f",
   "metadata": {},
   "source": [
    "We can now test this algorithm for a solution, which will be returned as a *sympy* expression which is our $P(x)$:"
   ]
  },
  {
   "cell_type": "code",
   "execution_count": 7,
   "id": "2bf3cac4",
   "metadata": {
    "scrolled": true
   },
   "outputs": [
    {
     "data": {
      "text/latex": [
       "$\\displaystyle 0.0454545454545455 x^{2} - 0.397727272727272 x + 1.11363636363636$"
      ],
      "text/plain": [
       "0.0454545454545455*x**2 - 0.397727272727272*x + 1.11363636363636"
      ]
     },
     "execution_count": 7,
     "metadata": {},
     "output_type": "execute_result"
    }
   ],
   "source": [
    "P = SymbolicLagrangeInterpolation(x_vals, y_vals).simplify()\n",
    "P"
   ]
  },
  {
   "cell_type": "markdown",
   "id": "3574d643",
   "metadata": {},
   "source": [
    "This is of course the expected equation as above! (even though the fractions are in decimal form)\n",
    "\n",
    "We can now compare this approximation with the actual function:"
   ]
  },
  {
   "cell_type": "code",
   "execution_count": 8,
   "id": "12fa7caa",
   "metadata": {},
   "outputs": [
    {
     "data": {
      "image/png": "[encoded data removed]",
      "text/plain": [
       "<Figure size 432x288 with 1 Axes>"
      ]
     },
     "metadata": {
      "needs_background": "light"
     },
     "output_type": "display_data"
    }
   ],
   "source": [
    "x_space = np.linspace(1, 5, 100) # 100 linearly spaced numbers (x-values) across the region of interest\n",
    "\n",
    "# lambdify expressions so we can work with numpy arrays\n",
    "f_np = sym.lambdify(x, f)\n",
    "P_np = sym.lambdify(x, P)\n",
    "\n",
    "# Plot these points and join by a line\n",
    "plt.scatter(x_vals, y_vals, color = 'r', label = \"Known Points\") # known points\n",
    "plt.plot(x_space, f_np(x_space), color = 'r', label = \"Actual Function\") # function 1/x\n",
    "plt.plot(x_space, P_np(x_space), color = 'b', label = \"Interpolation\") # Interpolation\n",
    "plt.ylabel('f(x), P(x)')\n",
    "plt.xlabel('x')\n",
    "plt.legend()\n",
    "plt.grid(True)"
   ]
  },
  {
   "cell_type": "markdown",
   "id": "8b1ace33",
   "metadata": {},
   "source": [
    "### Extra: Error in $P(x)$"
   ]
  },
  {
   "cell_type": "markdown",
   "id": "f8dbfcbc",
   "metadata": {},
   "source": [
    "We can clearly see that although the approximation above is very good between the known points, outside this range it is very poor. We would like a quantitative way to measure its performance in a given region. So how can we actually determine the error?\n",
    "\n",
    "As shown in Lecture 14 Theorem 4.3, the actual function:\n",
    "\n",
    "\\begin{equation} f(x) = P(x) + \\frac{f^{(n + 1)}(\\epsilon)}{(n + 1)!} \\prod\\limits_{i = 0}^{n} x - x_i \\end{equation}\n",
    "\n",
    "So the error is the latter term, with $\\epsilon$ an unknown. However, we can find the maximum error. Taking $f(x) = \\frac{1}{x}$ as our example, $n = 2$, and let the region between the known x-values from before be $S = [2, 4]$. We can find the maximum for one part of the formula for the error:\n",
    "\n",
    "\\begin{equation} \\underset{x \\in S}{max} \\left( \\frac{f^{(3)}(x)}{3!} \\right) = \\underset{x \\in S}{max} \\left( \\frac{-1}{x^4} \\right) \\end{equation}\n",
    "\n",
    "We can see by inspection that this occurs at $x = 2$, to give a value of $\\frac{-1}{16}$. Likewise for the other part of the error:\n",
    "\n",
    "\\begin{equation} \\underset{x \\in S}{max} \\left( \\prod\\limits_{i = 0}^{2} x - x_i \\right) = \\underset{x \\in S}{max} \\left( \\left( x - 2 \\right) \\left( x - 2.75 \\right) \\left( x - 4 \\right) \\right) = \\underset{x \\in S}{max} \\left( x^3 - \\frac{35}{4}x^2 + \\frac{49}{2}x - 22 \\right) \\end{equation}\n",
    "\n",
    "This occurs at $x = \\frac{7}{2}$, to give a value of $\\frac{-9}{16}$. We can combine these to get the maximum error in the region $[2, 4]$:\n",
    "\n",
    "$$\\frac{-1}{16} \\times \\frac{-9}{16} \\approx 0.0352$$\n",
    "\n",
    "This could be implemented generally in Python, but would require the use of a $max$ function from a library like *scipy*, which is outside the scope of this project."
   ]
  }
 ],
 "metadata": {
  "kernelspec": {
   "display_name": "Python 3 (ipykernel)",
   "language": "python",
   "name": "python3"
  },
  "language_info": {
   "codemirror_mode": {
    "name": "ipython",
    "version": 3
   },
   "file_extension": ".py",
   "mimetype": "text/x-python",
   "name": "python",
   "nbconvert_exporter": "python",
   "pygments_lexer": "ipython3",
   "version": "3.9.7"
  }
 },
 "nbformat": 4,
 "nbformat_minor": 5
}
